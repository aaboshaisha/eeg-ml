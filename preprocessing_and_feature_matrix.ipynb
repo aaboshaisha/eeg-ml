{
 "cells": [
  {
   "cell_type": "code",
   "execution_count": 1,
   "id": "29eaceeb-7a04-44d2-ad74-256fc77d62b3",
   "metadata": {},
   "outputs": [],
   "source": [
    "import numpy as np\n",
    "import pandas as pd\n",
    "import mne\n",
    "from mne_bids import BIDSPath, read_raw_bids\n",
    "import matplotlib.pyplot as plt\n",
    "from pathlib import Path\n",
    "from mne.preprocessing import ICA\n",
    "from mne.preprocessing import create_eog_epochs, create_ecg_epochs\n",
    "from mne import make_fixed_length_epochs\n",
    "from scipy.signal import welch\n",
    "# from mne.connectivity import phase_lag_index"
   ]
  },
  {
   "cell_type": "markdown",
   "id": "e95a4a7a-85cd-489d-8d5b-2970f82aebda",
   "metadata": {},
   "source": [
    "## Load and visualize:"
   ]
  },
  {
   "cell_type": "code",
   "execution_count": 2,
   "id": "7dc0d02e-5f8e-4234-a930-6c28d8c04c05",
   "metadata": {},
   "outputs": [],
   "source": [
    "# Set the path to the BIDS dataset\n",
    "bids_root = \"/Users/amralaa/Desktop/Research Files/eeg_roman/TD_BRAIN_SAMPLE\""
   ]
  },
  {
   "cell_type": "code",
   "execution_count": 3,
   "id": "1492c9eb-c8af-48d7-acff-94f11fdd4ee9",
   "metadata": {},
   "outputs": [],
   "source": [
    "participants = pd.read_csv(bids_root + '/participants.tsv', sep = '\\t')"
   ]
  },
  {
   "cell_type": "code",
   "execution_count": 4,
   "id": "54e60c00-5270-4b7a-87a1-75a8f771147c",
   "metadata": {},
   "outputs": [
    {
     "data": {
      "image/png": "[encoded data removed]",
      "text/plain": [
       "<Figure size 300x300 with 1 Axes>"
      ]
     },
     "metadata": {},
     "output_type": "display_data"
    }
   ],
   "source": [
    "plt.figure(figsize=(3,3));\n",
    "participants.age.plot(kind='hist', bins=20);\n",
    "plt.xlabel('age');\n",
    "plt.ylabel('frequency');\n",
    "plt.title('Age distribution of TDBRAIN Sample');"
   ]
  },
  {
   "cell_type": "code",
   "execution_count": 5,
   "id": "6d1b07a0-c374-4fc3-b641-aaef6a5a4c31",
   "metadata": {},
   "outputs": [],
   "source": [
    "# for mne, set the global log level to 'WARNING' or higher to suppress informational messages:\n",
    "mne.set_log_level('WARNING')"
   ]
  },
  {
   "cell_type": "code",
   "execution_count": 6,
   "id": "43cf44fd-1c7b-4165-bf11-71e2db15b65d",
   "metadata": {},
   "outputs": [],
   "source": [
    "def get_cortical_regions(raw):\n",
    "    \"\"\"\n",
    "    Define cortical regions based on electrode names.\n",
    "    \n",
    "    Parameters:\n",
    "        raw: MNE raw object\n",
    "    \n",
    "    Returns:\n",
    "        channel_regions (dict): mapping from channel names to cortical regions\n",
    "    \"\"\"\n",
    "    # this excludes \"unknown\" channels in the EEG (see channels info tsv files)\n",
    "    frontal_channels = ['Fp1', 'Fpz', 'Fp2', 'F7', 'F3', 'Fz', 'F4', 'F8']\n",
    "    central_channels = ['FC5', 'FC1', 'FC2', 'FC6', 'C3', 'Cz', 'C4', 'CP5', 'CP1', 'CP2', 'CP6']\n",
    "    temporal_channels = ['T7', 'T8', 'FT9', 'FT10']\n",
    "    parietal_channels = ['P7', 'P3', 'Pz', 'P4', 'P8']\n",
    "    occipital_channels = ['O1', 'Oz', 'O2']\n",
    "    \n",
    "    # Create a mapping from channel names to cortical regions\n",
    "    channel_regions = {}\n",
    "    for channel in raw.ch_names:\n",
    "        if channel in frontal_channels:\n",
    "            channel_regions[channel] = 'F'\n",
    "        elif channel in central_channels:\n",
    "            channel_regions[channel] = 'C'\n",
    "        elif channel in temporal_channels:\n",
    "            channel_regions[channel] = 'T'\n",
    "        elif channel in parietal_channels:\n",
    "            channel_regions[channel] = 'P'\n",
    "        elif channel in occipital_channels:\n",
    "            channel_regions[channel] = 'O'\n",
    "    return channel_regions"
   ]
  },
  {
   "cell_type": "code",
   "execution_count": 7,
   "id": "9e25c39a-344c-489e-8e47-f28af091bca2",
   "metadata": {},
   "outputs": [],
   "source": [
    "# we'll work with many of these nested lists and np arrays. Let's create a func to print their dims\n",
    "def nested_shape(obj):\n",
    "    \"\"\"\n",
    "    Prints the shape of the first encountered nested list and numpy array in one line, comma-separated.\n",
    "    \n",
    "    Parameters:\n",
    "        obj: nested list or numpy array\n",
    "    \n",
    "    Returns:\n",
    "        None\n",
    "    \"\"\"\n",
    "    if isinstance(obj, list):\n",
    "        print(len(obj), end=\", \")\n",
    "        if obj:\n",
    "            nested_shape(obj[0])\n",
    "    elif isinstance(obj, np.ndarray):\n",
    "        print(obj.shape, end=\" \")\n",
    "    else:\n",
    "        print(\"\", end=\"\")"
   ]
  },
  {
   "cell_type": "markdown",
   "id": "3f66570c-55a9-433f-8292-3cf027b732d6",
   "metadata": {},
   "source": [
    "## Cleaning the data:"
   ]
  },
  {
   "cell_type": "markdown",
   "id": "dd6857e8-734f-4377-9bd9-2a833d56bc28",
   "metadata": {},
   "source": [
    "Since our dataset ir organized according to the Brain Imaging Data Structure (BIDS) standard, \n",
    "we'll use MNE-BIDS which is a Python package that is designed to facilitate the handling, analysis, \n",
    "and storage of electrophysiological data (EEG, MEG, iEEG, etc.) in the BIDS format. \n",
    "- **Steps in cleaning include:**\n",
    "  1. **Removing baseline noise** and applying a filter to keep only the brainwave frequencies of interest.\n",
    "  2. **Deleting faulty electrodes** due to noise or bad contact and removing unnecessary reference data.\n",
    "  3. **Using ICA (Independent Component Analysis)** to get rid of eye movement artifacts and other noise, repeated if necessary.\n",
    "  4. **Averaging the data** re-referencing the EEG data to an average reference and segmenting the continuous EEG data into overlapping windows."
   ]
  },
  {
   "cell_type": "code",
   "execution_count": 8,
   "id": "28832eac-0880-4f6f-8183-98bd7b075fa2",
   "metadata": {},
   "outputs": [],
   "source": [
    "# Initialize lists to store data and labels\n",
    "eeg_data_EO = []\n",
    "eeg_data_EC = []\n",
    "ages = []\n",
    "channel_regions = None\n",
    "\n",
    "# Define your filter parameters\n",
    "l_freq = 0.3  # high-pass filter cutoff (lower edge)\n",
    "h_freq = 54  # low-pass filter cutoff (upper edge)\n",
    "method = 'iir'  # Filter method\n",
    "iir_params = dict(order=2, ftype='butter')  # Butterworth filter parameters\n",
    "\n",
    "# 'bad_channels' is a list of channel names that are noisy or show bad contact\n",
    "# we want to remove 'Fz' as well, so we include it in the list\n",
    "bad_channels = ['Fz']  # Update this list based on your data analysis\n",
    "\n",
    "# Define your ICA parameters\n",
    "n_components = 15  # Number of components to keep. Adjust based on your data.\n",
    "method = 'fastica'  # FastICA algorithm\n",
    "\n",
    "# Loop through each participant and session\n",
    "for _, participant in participants.iterrows():\n",
    "    participant_id = participant['participant_id'].replace('sub-', '')  # Ensure the 'sub-' prefix is removed\n",
    "    age = participant['age']\n",
    "    \n",
    "    # Define the BIDS path for the Eyes Open condition, and similarly for Eyes Closed\n",
    "    bids_path_EO = BIDSPath(subject=participant_id, session='1', task='restEO', datatype='eeg', \n",
    "                            suffix='eeg', root=bids_root)\n",
    "    bids_path_EC = BIDSPath(subject=participant_id, session='1', task='restEC', datatype='eeg', \n",
    "                            suffix='eeg', root=bids_root)\n",
    "    \n",
    "    # Process Eyes Open condition\n",
    "    raw_EO = read_raw_bids(bids_path=bids_path_EO)\n",
    "    raw_EO.load_data()\n",
    "    # Mark bad channels\n",
    "    raw_EO.info['bads'] += bad_channels  # This adds your predefined bad channels to the list\n",
    "    # Filter the data\n",
    "    raw_EO.filter(l_freq=0.3, h_freq=54, method='iir', iir_params=dict(order=2, ftype='butter'), verbose=False)\n",
    "    # Fit ICA\n",
    "    ica = ICA(n_components=n_components, method=method)\n",
    "    ica.fit(raw_EO)\n",
    "    # Apply ICA to the Raw object to remove the components\n",
    "    ica.apply(raw_EO)\n",
    "\n",
    "    # Pick good EEG channels, excluding bad ones and the 'Fz' reference\n",
    "    raw_EO.pick_types(eeg=True, exclude='bads')\n",
    "    \n",
    "    channel_regions = get_cortical_regions(raw_EO) # after Fz removed\n",
    "\n",
    "    raw_EO.set_eeg_reference('average', projection=True) # Re-reference to the average\n",
    "    raw_EO.apply_proj()\n",
    "\n",
    "    # Segment data into 2-second windows with 1-second overlap\n",
    "    # This creates epochs from the continuous data\n",
    "    epochs_EO = make_fixed_length_epochs(raw_EO, duration=2.0, overlap=1.0, verbose=False)\n",
    "    \n",
    "    # Here you might want to operate on epochs_EO or convert it to data arrays\n",
    "    # For example, you can access the data for each epoch as a 3D array\n",
    "    data_EO = epochs_EO.get_data()\n",
    "    eeg_data_EO.append(data_EO)\n",
    "\n",
    "    # Process Eyes Closed condition similarly\n",
    "    raw_EC = read_raw_bids(bids_path=bids_path_EC)\n",
    "    raw_EC.load_data()\n",
    "    raw_EC.info['bads'] += bad_channels\n",
    "    raw_EC.filter(l_freq=0.3, h_freq=54, method='iir', iir_params=dict(order=2, ftype='butter'), verbose=False)\n",
    "    ica = ICA(n_components=n_components, method=method) \n",
    "    ica.fit(raw_EC)\n",
    "    ica.apply(raw_EC)\n",
    "\n",
    "    raw_EC.pick_types(eeg=True, exclude='bads')\n",
    "    raw_EC.set_eeg_reference('average', projection=True)\n",
    "    raw_EC.apply_proj()\n",
    "\n",
    "    epochs_EC = make_fixed_length_epochs(raw_EC, duration=2.0, overlap=1.0, verbose=False)\n",
    "    data_EC = epochs_EC.get_data()\n",
    "    eeg_data_EC.append(data_EC)\n",
    "\n",
    "    # Append age\n",
    "    ages.append(age)"
   ]
  },
  {
   "cell_type": "code",
   "execution_count": 9,
   "id": "b8dc8584-495b-46da-bc89-e2186c0410dd",
   "metadata": {},
   "outputs": [
    {
     "name": "stdout",
     "output_type": "stream",
     "text": [
      "22, (119, 32, 1000) 22, (119, 32, 1000) "
     ]
    },
    {
     "data": {
      "text/plain": [
       "(None, None)"
      ]
     },
     "execution_count": 9,
     "metadata": {},
     "output_type": "execute_result"
    }
   ],
   "source": [
    "nested_shape(eeg_data_EO), nested_shape(eeg_data_EC)\n",
    "# 22 subjects (epochs, channels, timepoints)"
   ]
  },
  {
   "cell_type": "markdown",
   "id": "e2164f9b-8d8b-4d8a-bc2e-780156407078",
   "metadata": {},
   "source": [
    "## Feature Extraction:"
   ]
  },
  {
   "cell_type": "markdown",
   "id": "5556212c-490c-43bc-919a-2e4c8473a1e9",
   "metadata": {},
   "source": [
    "Calculate the power spectral density (PSD) for each epoch and each cortical region using Welch's periodogram method. We also calculate relative power for each frequency band, as well as the dominant frequency (DF) and dominant frequency variance (DFV)."
   ]
  },
  {
   "cell_type": "code",
   "execution_count": 10,
   "id": "f4ca55d6-5e66-4e66-8158-188348532c0c",
   "metadata": {},
   "outputs": [],
   "source": [
    "from scipy.signal import welch\n",
    "\n",
    "freqs = None # to use later\n",
    "\n",
    "# EEG data has a length of 1000 samples\n",
    "data_length = 1000\n",
    "\n",
    "# Set nperseg to a value less than or equal to the data length\n",
    "nperseg = 512 # how many pieces to cut EEG into\n",
    "\n",
    "# for each piece, we analyze what frequencies are present and how strong each one is -> freqs in final output\n",
    "\n",
    "# Set noverlap to a value less than nperseg\n",
    "noverlap = nperseg // 2  # 50% overlap - when we cut, we make overlaps \n",
    "\n",
    "# Calculate PSD for each epoch and cortical region\n",
    "psd_data = []\n",
    "for eeg in eeg_data_EO + eeg_data_EC:  # Combine Eyes Open and Eyes Closed data\n",
    "    psd_epoch = []\n",
    "    for region in ['F', 'C', 'T', 'P', 'O']:\n",
    "        region_channels = [ch for ch, reg in channel_regions.items() if reg == region]\n",
    "        region_data = eeg[:, np.array([raw_EO.ch_names.index(ch) for ch in region_channels])]\n",
    "        freqs, psd = welch(region_data, fs=raw_EO.info['sfreq'], nperseg=nperseg, noverlap=noverlap, nfft=None)\n",
    "        # print(len(freqs), psd.shape)\n",
    "        psd_epoch.append(psd)\n",
    "    psd_data.append(psd_epoch)\n",
    "\n",
    "\n",
    "# - In the end, the algorithm gives you two important pieces of information:\n",
    "#  - `freqs`: A list of frequencies that it checked (at which frequencies it looked to analyze the EEG data).\n",
    "#  - `psd`: For each frequency in `freqs`, how much power there is.\n",
    "#  This shows how much of each \"frequency\" is present in the brain's electrical activity."
   ]
  },
  {
   "cell_type": "code",
   "execution_count": 11,
   "id": "4f2a5bed-d35f-42ed-9595-d43281e5efca",
   "metadata": {},
   "outputs": [
    {
     "name": "stdout",
     "output_type": "stream",
     "text": [
      "44, 5, (119, 6, 257) "
     ]
    }
   ],
   "source": [
    "nested_shape(psd_data)\n",
    "# subjects , 5 cortical regions, (epochs, channels, freq_bins)"
   ]
  },
  {
   "cell_type": "markdown",
   "id": "79b4c692-243e-49ff-99d6-6a4ca746f720",
   "metadata": {},
   "source": [
    "The output from applying the Welch algorithm to EEG data across various cortical regions and conditions results in a frequency vector (`freqs`) and corresponding PSD values with dimensions detailed as follows:\n",
    "\n",
    "- The `freqs` array contains 257 discrete frequency bins, indicating PSD calculations were made for 257 different frequencies based on the `nperseg` parameter and the EEG data's sampling frequency.\n",
    "- The `psd.shape` provides dimensions as `(119, X, 257)`, where `119` represents the number of epochs, `X` is the variable number of channels in each cortical region, and `257` is the number of frequency bins.\n",
    "- Different cortical regions have varying numbers of channels (`X`), reflected in the PSD matrix's shape, such as `(119, 6, 257)`, `(119, 3, 257)`, `(119, 2, 257)`, and `(119, 5, 257)`, indicating the analysis depth for each region."
   ]
  },
  {
   "cell_type": "code",
   "execution_count": 12,
   "id": "260ef070-82b0-4d1e-a45e-39ef6f94bcaf",
   "metadata": {},
   "outputs": [],
   "source": [
    "# first: Average or sum the PSD data across the channels and conditions (EO, EC) for the region. \n",
    "# The result should be a structure like the original psd_data but without the channel dimension, \n",
    "# ie: 2D array for each subject and cortical region, averaged across channels.\n",
    "\n",
    "averaged_psd_data = []\n",
    "\n",
    "for subject in psd_data: #iterate over 44 (22 x 2 subjects)\n",
    "    subjects_averages = []\n",
    "    for region_array in subject: # each has 5 cortical regions , each holds a 3d array (epochs, n_channels, freq_bins)\n",
    "        # Average across the channel dimension (axis=1)\n",
    "        regions_average = np.mean(region_array, axis=1) # now has shape: (epochs, freq_bins)\n",
    "        subjects_averages.append(regions_average)\n",
    "    averaged_psd_data.append(subjects_averages)\n",
    "    "
   ]
  },
  {
   "cell_type": "code",
   "execution_count": 13,
   "id": "149c2121-91a9-4225-8b64-6d15605a11b1",
   "metadata": {},
   "outputs": [
    {
     "name": "stdout",
     "output_type": "stream",
     "text": [
      "44, 5, (119, 257) "
     ]
    }
   ],
   "source": [
    "nested_shape(averaged_psd_data)"
   ]
  },
  {
   "cell_type": "code",
   "execution_count": 14,
   "id": "fb2cecf7-47f5-4a31-82de-c8193eecc58e",
   "metadata": {},
   "outputs": [],
   "source": [
    "# Calculate Absolute Power for Bands: For each subject, condition, and region, \n",
    "# Calculate the absolute power within each frequency band by integrating the PSD over the band's frequency range.\n",
    "\n",
    "# identify the indices of the frequency bins that correspond to each band's range\n",
    "# then sum the PSD values across those indices\n",
    "\n",
    "\n",
    "# Define frequency bands\n",
    "bands = {\n",
    "    'Delta': (0.5, 4),\n",
    "    'Theta': (4, 5.5),\n",
    "    'High Theta': (5.5, 8),\n",
    "    'Alpha': (8, 13),\n",
    "    'Beta': (13, 30),\n",
    "}\n",
    "\n",
    "\n",
    "# The resulting structure should mirror the structure of `averaged_psd_data`\n",
    "# but with an added dimension for bands\n",
    "absolute_power_data = []\n",
    "\n",
    "# Loop through each subject's data\n",
    "for subject_data in averaged_psd_data:\n",
    "    subject_power = []\n",
    "    for region_array in subject_data: # region_array has shape: (epochs, freq_bins) -> (119, 257)\n",
    "        region_power = []\n",
    "        for band_name, (low_freq, high_freq) in bands.items(): # for each band\n",
    "            # Find indices of freqs that fall within the current band\n",
    "            band_indices = np.where((freqs >= low_freq) & (freqs <= high_freq))[0]\n",
    "            # Sum the PSD values across these indices to get absolute power\n",
    "            band_power = np.sum(region_array[:, band_indices], axis=1)\n",
    "            # band_power now has the shape: (epochs,)\n",
    "            \n",
    "            region_power.append(band_power)\n",
    "        subject_power.append(region_power)\n",
    "    absolute_power_data.append(subject_power)\n",
    "\n",
    "# absolute_power_data now contains the absolute power for each band\n",
    "# Structured as (subjects, cortical_regions, bands, epochs)"
   ]
  },
  {
   "cell_type": "code",
   "execution_count": 15,
   "id": "727a02d7-fef9-46db-bd1b-b278e7dacc39",
   "metadata": {},
   "outputs": [
    {
     "name": "stdout",
     "output_type": "stream",
     "text": [
      "44, 5, 5, (119,) "
     ]
    }
   ],
   "source": [
    "nested_shape(absolute_power_data)"
   ]
  },
  {
   "cell_type": "code",
   "execution_count": 16,
   "id": "a049d0c5-0be7-40a1-ac67-027ed9b0649e",
   "metadata": {},
   "outputs": [],
   "source": [
    "relative_power_data = []\n",
    "\n",
    "# Iterate over subjects, regions, and epochs to calculate relative power\n",
    "for subject_data in absolute_power_data:\n",
    "    subject_relative_power = []\n",
    "    for region_data in subject_data:\n",
    "        # Calculate total power across all bands for each epoch\n",
    "        total_power = np.sum(region_data, axis=0)\n",
    "        \n",
    "        # Calculate relative power for each band\n",
    "        region_relative_power = region_data / total_power\n",
    "        subject_relative_power.append(region_relative_power)\n",
    "    relative_power_data.append(subject_relative_power)\n",
    "\n",
    "# relative_power_data now structured as (subjects, cortical_regions, bands, epochs), with relative power values"
   ]
  },
  {
   "cell_type": "code",
   "execution_count": 17,
   "id": "6ad03157-7a55-4db3-8877-153dfe1dea2f",
   "metadata": {},
   "outputs": [
    {
     "name": "stdout",
     "output_type": "stream",
     "text": [
      "44, 5, (5, 119) "
     ]
    }
   ],
   "source": [
    "nested_shape(relative_power_data)"
   ]
  },
  {
   "cell_type": "code",
   "execution_count": 18,
   "id": "0407313f-8a1c-4c04-ab61-3504b586d347",
   "metadata": {},
   "outputs": [],
   "source": [
    "# Initialize a structure for dominant frequency data\n",
    "dominant_frequency_data = []\n",
    "\n",
    "# Iterate over the averaged PSD data to find the dominant frequency for each epoch\n",
    "for subject_data in averaged_psd_data:\n",
    "    subject_df = []\n",
    "    for region_data in subject_data:\n",
    "        # Find the index of the max power frequency bin for each epoch\n",
    "        df_indices = np.argmax(region_data, axis=1)\n",
    "        # Retrieve the actual frequencies using these indices\n",
    "        df_frequencies = freqs[df_indices]\n",
    "        subject_df.append(df_frequencies)\n",
    "    dominant_frequency_data.append(subject_df)\n",
    "\n",
    "# dominant_frequency_data structured as (subjects, cortical_regions, epochs), containing DF frequencies"
   ]
  },
  {
   "cell_type": "code",
   "execution_count": 19,
   "id": "73c88d9a-1c54-4e5e-8570-f585bc1da226",
   "metadata": {},
   "outputs": [
    {
     "name": "stdout",
     "output_type": "stream",
     "text": [
      "44, 5, (119,) "
     ]
    }
   ],
   "source": [
    "nested_shape(dominant_frequency_data)"
   ]
  },
  {
   "cell_type": "code",
   "execution_count": 20,
   "id": "f03b0029-e603-4b92-96e9-d5f403876e24",
   "metadata": {},
   "outputs": [],
   "source": [
    "# DFV for each cortical region\n",
    "dfv_by_region_data = []\n",
    "\n",
    "# Iterate over the dominant frequency data to calculate variance for each region\n",
    "for subject_df in dominant_frequency_data:\n",
    "    subject_dfv = []\n",
    "    for region_df in subject_df:\n",
    "        # Calculate variance of DF frequencies for the current region\n",
    "        dfv = np.var(region_df)\n",
    "        subject_dfv.append(dfv)\n",
    "    dfv_by_region_data.append(subject_dfv)\n",
    "\n",
    "# dfv_by_region_data structured as (subjects, cortical_regions), containing DFV for each region"
   ]
  },
  {
   "cell_type": "code",
   "execution_count": 21,
   "id": "8bfdaa2d-69ea-4fec-a0b3-66c9d51bbcce",
   "metadata": {},
   "outputs": [
    {
     "name": "stdout",
     "output_type": "stream",
     "text": [
      "44, 5, "
     ]
    }
   ],
   "source": [
    "nested_shape(dfv_by_region_data)"
   ]
  },
  {
   "cell_type": "markdown",
   "id": "586457ed-be08-4406-b1a5-c8db40329611",
   "metadata": {},
   "source": [
    "## Prepare Feature Matrix:"
   ]
  },
  {
   "cell_type": "markdown",
   "id": "4e6dbb6d-924f-4780-919e-c0cadb6e543a",
   "metadata": {},
   "source": [
    "Create a feature matrix where each row represents a subject, and each column represents a feature derived from the PSD data across different cortical regions, conditions (EO/EC), and channels. We will include the subject's age as a target variable for prediction"
   ]
  },
  {
   "cell_type": "code",
   "execution_count": 22,
   "id": "7ab25859-4f48-412a-9890-53b3b7ea22b2",
   "metadata": {},
   "outputs": [
    {
     "data": {
      "text/plain": [
       "(22, 70)"
      ]
     },
     "execution_count": 22,
     "metadata": {},
     "output_type": "execute_result"
    }
   ],
   "source": [
    "feature_matrix = []\n",
    "\n",
    "# Number of subjects (assuming 22 subjects with EO and EC conditions)\n",
    "num_subjects = 22\n",
    "\n",
    "for i in range(num_subjects):\n",
    "    # Initialize a list to hold features for this subject\n",
    "    subject_features = []\n",
    "    \n",
    "    # For each condition (EO, EC) and each type of data\n",
    "    for condition_index in [i, i + num_subjects]:  # Index for EO and EC\n",
    "        # Aggregate and append features for relative power, DF, etc.\n",
    "        \n",
    "        # For relative power data (mean across epochs)\n",
    "        mean_rel_power_eo_ec = np.mean(relative_power_data[condition_index], axis=2)  # Averaging across epochs\n",
    "        subject_features.extend(mean_rel_power_eo_ec.flatten().tolist())\n",
    "        \n",
    "        # Append average DF across epochs\n",
    "        mean_df = np.mean(dominant_frequency_data[condition_index], axis=1)\n",
    "        subject_features.extend(mean_df.tolist())\n",
    "        \n",
    "        # DFV data can be directly appended since it's already per subject per region\n",
    "        subject_features.extend(dfv_by_region_data[condition_index])\n",
    "    \n",
    "    # Add this subject's features to the feature matrix\n",
    "    feature_matrix.append(subject_features)\n",
    "\n",
    "# Convert the feature matrix to a NumPy array\n",
    "feature_matrix_np = np.array(feature_matrix)\n",
    "feature_matrix_np.shape"
   ]
  },
  {
   "cell_type": "code",
   "execution_count": 23,
   "id": "f881198d-eacd-45c7-a6fe-a8eac57e5fa8",
   "metadata": {},
   "outputs": [
    {
     "data": {
      "text/html": [
       "<div>\n",
       "<style scoped>\n",
       "    .dataframe tbody tr th:only-of-type {\n",
       "        vertical-align: middle;\n",
       "    }\n",
       "\n",
       "    .dataframe tbody tr th {\n",
       "        vertical-align: top;\n",
       "    }\n",
       "\n",
       "    .dataframe thead th {\n",
       "        text-align: right;\n",
       "    }\n",
       "</style>\n",
       "<table border=\"1\" class=\"dataframe\">\n",
       "  <thead>\n",
       "    <tr style=\"text-align: right;\">\n",
       "      <th></th>\n",
       "      <th>Delta_RelPower_F_EO</th>\n",
       "      <th>Theta_RelPower_F_EO</th>\n",
       "      <th>High_RelPower_F_EO</th>\n",
       "      <th>Alpha_RelPower_F_EO</th>\n",
       "      <th>Beta_RelPower_F_EO</th>\n",
       "      <th>DF_F_EO</th>\n",
       "      <th>DFV_F_EO</th>\n",
       "      <th>Delta_RelPower_C_EO</th>\n",
       "      <th>Theta_RelPower_C_EO</th>\n",
       "      <th>High_RelPower_C_EO</th>\n",
       "      <th>...</th>\n",
       "      <th>Beta_RelPower_P_EC</th>\n",
       "      <th>DF_P_EC</th>\n",
       "      <th>DFV_P_EC</th>\n",
       "      <th>Delta_RelPower_O_EC</th>\n",
       "      <th>Theta_RelPower_O_EC</th>\n",
       "      <th>High_RelPower_O_EC</th>\n",
       "      <th>Alpha_RelPower_O_EC</th>\n",
       "      <th>Beta_RelPower_O_EC</th>\n",
       "      <th>DF_O_EC</th>\n",
       "      <th>DFV_O_EC</th>\n",
       "    </tr>\n",
       "  </thead>\n",
       "  <tbody>\n",
       "    <tr>\n",
       "      <th>0</th>\n",
       "      <td>0.573986</td>\n",
       "      <td>0.028163</td>\n",
       "      <td>0.069962</td>\n",
       "      <td>0.081298</td>\n",
       "      <td>0.246590</td>\n",
       "      <td>0.442476</td>\n",
       "      <td>0.051404</td>\n",
       "      <td>0.128176</td>\n",
       "      <td>0.124739</td>\n",
       "      <td>0.253205</td>\n",
       "      <td>...</td>\n",
       "      <td>1.050420</td>\n",
       "      <td>5.514706</td>\n",
       "      <td>3.914456</td>\n",
       "      <td>8.493632</td>\n",
       "      <td>8.986016</td>\n",
       "      <td>0.643685</td>\n",
       "      <td>25.013326</td>\n",
       "      <td>18.712786</td>\n",
       "      <td>13.616780</td>\n",
       "      <td>9.337671</td>\n",
       "    </tr>\n",
       "    <tr>\n",
       "      <th>1</th>\n",
       "      <td>0.662748</td>\n",
       "      <td>0.031119</td>\n",
       "      <td>0.082243</td>\n",
       "      <td>0.104022</td>\n",
       "      <td>0.119867</td>\n",
       "      <td>0.447780</td>\n",
       "      <td>0.035681</td>\n",
       "      <td>0.097435</td>\n",
       "      <td>0.141889</td>\n",
       "      <td>0.277215</td>\n",
       "      <td>...</td>\n",
       "      <td>1.034007</td>\n",
       "      <td>3.290769</td>\n",
       "      <td>1.624869</td>\n",
       "      <td>3.873424</td>\n",
       "      <td>4.759716</td>\n",
       "      <td>0.068827</td>\n",
       "      <td>20.561948</td>\n",
       "      <td>5.229618</td>\n",
       "      <td>15.658415</td>\n",
       "      <td>18.200828</td>\n",
       "    </tr>\n",
       "    <tr>\n",
       "      <th>2</th>\n",
       "      <td>0.662748</td>\n",
       "      <td>0.031119</td>\n",
       "      <td>0.082243</td>\n",
       "      <td>0.104022</td>\n",
       "      <td>0.119867</td>\n",
       "      <td>0.447780</td>\n",
       "      <td>0.035681</td>\n",
       "      <td>0.097435</td>\n",
       "      <td>0.141889</td>\n",
       "      <td>0.277215</td>\n",
       "      <td>...</td>\n",
       "      <td>1.034007</td>\n",
       "      <td>3.290769</td>\n",
       "      <td>1.624869</td>\n",
       "      <td>3.873424</td>\n",
       "      <td>4.759716</td>\n",
       "      <td>0.068827</td>\n",
       "      <td>20.561948</td>\n",
       "      <td>5.229618</td>\n",
       "      <td>15.658415</td>\n",
       "      <td>18.200828</td>\n",
       "    </tr>\n",
       "    <tr>\n",
       "      <th>3</th>\n",
       "      <td>0.662748</td>\n",
       "      <td>0.031119</td>\n",
       "      <td>0.082243</td>\n",
       "      <td>0.104022</td>\n",
       "      <td>0.119867</td>\n",
       "      <td>0.447780</td>\n",
       "      <td>0.035681</td>\n",
       "      <td>0.097435</td>\n",
       "      <td>0.141889</td>\n",
       "      <td>0.277215</td>\n",
       "      <td>...</td>\n",
       "      <td>1.034007</td>\n",
       "      <td>3.290769</td>\n",
       "      <td>1.624869</td>\n",
       "      <td>3.873424</td>\n",
       "      <td>4.759716</td>\n",
       "      <td>0.068827</td>\n",
       "      <td>20.561948</td>\n",
       "      <td>5.229618</td>\n",
       "      <td>15.658415</td>\n",
       "      <td>18.200828</td>\n",
       "    </tr>\n",
       "    <tr>\n",
       "      <th>4</th>\n",
       "      <td>0.685961</td>\n",
       "      <td>0.064301</td>\n",
       "      <td>0.130997</td>\n",
       "      <td>0.069745</td>\n",
       "      <td>0.048996</td>\n",
       "      <td>0.242728</td>\n",
       "      <td>0.039572</td>\n",
       "      <td>0.201481</td>\n",
       "      <td>0.297572</td>\n",
       "      <td>0.218647</td>\n",
       "      <td>...</td>\n",
       "      <td>6.835938</td>\n",
       "      <td>8.649554</td>\n",
       "      <td>8.296678</td>\n",
       "      <td>9.002429</td>\n",
       "      <td>9.281447</td>\n",
       "      <td>11.379979</td>\n",
       "      <td>2.504969</td>\n",
       "      <td>1.456540</td>\n",
       "      <td>0.836022</td>\n",
       "      <td>0.446768</td>\n",
       "    </tr>\n",
       "  </tbody>\n",
       "</table>\n",
       "<p>5 rows × 70 columns</p>\n",
       "</div>"
      ],
      "text/plain": [
       "   Delta_RelPower_F_EO  Theta_RelPower_F_EO  High_RelPower_F_EO  \\\n",
       "0             0.573986             0.028163            0.069962   \n",
       "1             0.662748             0.031119            0.082243   \n",
       "2             0.662748             0.031119            0.082243   \n",
       "3             0.662748             0.031119            0.082243   \n",
       "4             0.685961             0.064301            0.130997   \n",
       "\n",
       "   Alpha_RelPower_F_EO  Beta_RelPower_F_EO   DF_F_EO  DFV_F_EO  \\\n",
       "0             0.081298            0.246590  0.442476  0.051404   \n",
       "1             0.104022            0.119867  0.447780  0.035681   \n",
       "2             0.104022            0.119867  0.447780  0.035681   \n",
       "3             0.104022            0.119867  0.447780  0.035681   \n",
       "4             0.069745            0.048996  0.242728  0.039572   \n",
       "\n",
       "   Delta_RelPower_C_EO  Theta_RelPower_C_EO  High_RelPower_C_EO  ...  \\\n",
       "0             0.128176             0.124739            0.253205  ...   \n",
       "1             0.097435             0.141889            0.277215  ...   \n",
       "2             0.097435             0.141889            0.277215  ...   \n",
       "3             0.097435             0.141889            0.277215  ...   \n",
       "4             0.201481             0.297572            0.218647  ...   \n",
       "\n",
       "   Beta_RelPower_P_EC   DF_P_EC  DFV_P_EC  Delta_RelPower_O_EC  \\\n",
       "0            1.050420  5.514706  3.914456             8.493632   \n",
       "1            1.034007  3.290769  1.624869             3.873424   \n",
       "2            1.034007  3.290769  1.624869             3.873424   \n",
       "3            1.034007  3.290769  1.624869             3.873424   \n",
       "4            6.835938  8.649554  8.296678             9.002429   \n",
       "\n",
       "   Theta_RelPower_O_EC  High_RelPower_O_EC  Alpha_RelPower_O_EC  \\\n",
       "0             8.986016            0.643685            25.013326   \n",
       "1             4.759716            0.068827            20.561948   \n",
       "2             4.759716            0.068827            20.561948   \n",
       "3             4.759716            0.068827            20.561948   \n",
       "4             9.281447           11.379979             2.504969   \n",
       "\n",
       "   Beta_RelPower_O_EC    DF_O_EC   DFV_O_EC  \n",
       "0           18.712786  13.616780   9.337671  \n",
       "1            5.229618  15.658415  18.200828  \n",
       "2            5.229618  15.658415  18.200828  \n",
       "3            5.229618  15.658415  18.200828  \n",
       "4            1.456540   0.836022   0.446768  \n",
       "\n",
       "[5 rows x 70 columns]"
      ]
     },
     "execution_count": 23,
     "metadata": {},
     "output_type": "execute_result"
    }
   ],
   "source": [
    "# convert to dataframe:\n",
    "# subject_ids = [participants.participant_id.to_list()][0]\n",
    "\n",
    "# feature names creation\n",
    "conditions = ['EO', 'EC']\n",
    "regions = ['F', 'C', 'T', 'P', 'O']\n",
    "bands = ['Delta', 'Theta', 'High', 'Alpha', 'Beta']\n",
    "metrics = ['RelPower', 'DF', 'DFV']\n",
    "\n",
    "# Constructing feature names\n",
    "feature_names = []\n",
    "for condition in conditions:\n",
    "    for region in regions:\n",
    "        for band in bands:\n",
    "            feature_names.append(f\"{band}_RelPower_{region}_{condition}\")\n",
    "        feature_names.append(f\"DF_{region}_{condition}\")\n",
    "        feature_names.append(f\"DFV_{region}_{condition}\")\n",
    "\n",
    "df = pd.DataFrame(feature_matrix_np, columns=feature_names)\n",
    "df.head()"
   ]
  },
  {
   "cell_type": "code",
   "execution_count": 24,
   "id": "56abe8f6-366d-4f98-9c0f-d29e30047c4e",
   "metadata": {},
   "outputs": [],
   "source": [
    "df.to_csv('feature_matrix.csv', index=False)"
   ]
  },
  {
   "cell_type": "code",
   "execution_count": 26,
   "id": "273f14a1-a456-4067-a1e5-f9adc7f6c4c7",
   "metadata": {},
   "outputs": [],
   "source": [
    "ages_df = pd.DataFrame(ages)\n",
    "ages_df.to_csv('ages.csv', index=False)"
   ]
  },
  {
   "cell_type": "code",
   "execution_count": null,
   "id": "622a8449-34e6-42ec-a1ea-15a64a348998",
   "metadata": {},
   "outputs": [],
   "source": []
  }
 ],
 "metadata": {
  "kernelspec": {
   "display_name": "Python 3 (ipykernel)",
   "language": "python",
   "name": "python3"
  },
  "language_info": {
   "codemirror_mode": {
    "name": "ipython",
    "version": 3
   },
   "file_extension": ".py",
   "mimetype": "text/x-python",
   "name": "python",
   "nbconvert_exporter": "python",
   "pygments_lexer": "ipython3",
   "version": "3.10.13"
  }
 },
 "nbformat": 4,
 "nbformat_minor": 5
}
