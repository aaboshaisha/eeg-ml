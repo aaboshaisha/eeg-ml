{
 "cells": [
  {
   "cell_type": "code",
   "execution_count": 1,
   "id": "73b1a38c-a3c6-4891-9638-83160f3d8b88",
   "metadata": {},
   "outputs": [],
   "source": [
    "import numpy as np\n",
    "import pandas as pd\n",
    "import matplotlib.pyplot as plt"
   ]
  },
  {
   "cell_type": "code",
   "execution_count": 2,
   "id": "33d39221-6bcd-430c-9f10-974bdddd5bc9",
   "metadata": {},
   "outputs": [],
   "source": [
    "df = pd.read_csv('feature_matrix.csv')\n",
    "ages = pd.read_csv('ages.csv')"
   ]
  },
  {
   "cell_type": "code",
   "execution_count": 3,
   "id": "0baffa46-139a-4d5a-8739-4bbec1c44bd2",
   "metadata": {},
   "outputs": [
    {
     "data": {
      "text/plain": [
       "((22, 70), (22, 1))"
      ]
     },
     "execution_count": 3,
     "metadata": {},
     "output_type": "execute_result"
    }
   ],
   "source": [
    "X = df.copy(); y = ages.copy()\n",
    "X.shape, y.shape"
   ]
  },
  {
   "cell_type": "code",
   "execution_count": 4,
   "id": "290db07a-72db-4c84-a0fa-93b695478d57",
   "metadata": {},
   "outputs": [],
   "source": [
    "# let's try a baseline linear regression model\n",
    "from sklearn.linear_model import LinearRegression\n",
    "from sklearn.model_selection import train_test_split"
   ]
  },
  {
   "cell_type": "code",
   "execution_count": 5,
   "id": "32a9cae4-1a41-4563-9c20-1f03cbb04666",
   "metadata": {},
   "outputs": [],
   "source": [
    "# prepare the train and val data\n",
    "X_train, X_test, y_train, y_test = train_test_split(X, y, test_size=0.2, random_state=42)"
   ]
  },
  {
   "cell_type": "code",
   "execution_count": 6,
   "id": "9e24af0a-a50f-4d5e-9697-90e089455f03",
   "metadata": {},
   "outputs": [],
   "source": [
    "lr_model = LinearRegression(fit_intercept = True)\n",
    "lr_model.fit(X_train, y_train)\n",
    "y_pred = lr_model.predict(X_test)"
   ]
  },
  {
   "cell_type": "code",
   "execution_count": 7,
   "id": "f862d44f-7cd5-4c64-8311-0a53222a8ee7",
   "metadata": {},
   "outputs": [
    {
     "data": {
      "text/plain": [
       "(1, 70)"
      ]
     },
     "execution_count": 7,
     "metadata": {},
     "output_type": "execute_result"
    }
   ],
   "source": [
    "lr_model.coef_.shape # a knob for each feature"
   ]
  },
  {
   "cell_type": "code",
   "execution_count": 8,
   "id": "ce00afdf-f25d-4014-a427-6a00c578ce3c",
   "metadata": {},
   "outputs": [
    {
     "data": {
      "text/plain": [
       "array([6.14771555])"
      ]
     },
     "execution_count": 8,
     "metadata": {},
     "output_type": "execute_result"
    }
   ],
   "source": [
    "lr_model.intercept_"
   ]
  },
  {
   "cell_type": "code",
   "execution_count": 9,
   "id": "3801cab1-e142-478d-b349-32cd488a12ff",
   "metadata": {},
   "outputs": [],
   "source": [
    "# evaluation metrics\n",
    "from sklearn.metrics import mean_absolute_error, mean_squared_error, r2_score"
   ]
  },
  {
   "cell_type": "code",
   "execution_count": 10,
   "id": "beea10ee-f124-4870-930f-04800090abb3",
   "metadata": {},
   "outputs": [
    {
     "name": "stdout",
     "output_type": "stream",
     "text": [
      "Mean Absolute Error: 15.13\n",
      "Mean Squared Error: 504.75\n",
      "R-squared: -0.58\n"
     ]
    }
   ],
   "source": [
    "mae = mean_absolute_error(y_test, y_pred)\n",
    "mse = mean_squared_error(y_test, y_pred)\n",
    "r2 = r2_score(y_test, y_pred)\n",
    "\n",
    "print(f\"Mean Absolute Error: {mae:.2f}\")\n",
    "print(f\"Mean Squared Error: {mse:.2f}\")\n",
    "print(f\"R-squared: {r2:.2f}\")"
   ]
  },
  {
   "cell_type": "markdown",
   "id": "60b42f47-3040-449e-b781-c7f8a355f884",
   "metadata": {},
   "source": [
    "Terrible performance. Can we do better?"
   ]
  },
  {
   "cell_type": "code",
   "execution_count": 11,
   "id": "5433cfd8-00db-4782-8b45-ba60ee3a1b32",
   "metadata": {},
   "outputs": [
    {
     "data": {
      "text/plain": [
       "35"
      ]
     },
     "execution_count": 11,
     "metadata": {},
     "output_type": "execute_result"
    }
   ],
   "source": [
    "# let's see if we can get better by combining EO and EC\n",
    "prefixes = set()\n",
    "for col in df.columns:\n",
    "    prefixes.add(col[0 : -2])\n",
    "len(prefixes)"
   ]
  },
  {
   "cell_type": "code",
   "execution_count": 12,
   "id": "5aac27ee-f45b-459e-8852-4fb6915b85c5",
   "metadata": {},
   "outputs": [],
   "source": [
    "averages_df = pd.DataFrame()\n",
    "for prefix in prefixes:\n",
    "    ec_col = f\"{prefix}EC\"\n",
    "    eo_col = f\"{prefix}EO\"\n",
    "    averages_df[prefix[0:-1]] = df[[ec_col, eo_col]].mean(axis=1)"
   ]
  },
  {
   "cell_type": "code",
   "execution_count": 13,
   "id": "1b9e74c2-90c8-4275-8773-036266fa8485",
   "metadata": {},
   "outputs": [
    {
     "data": {
      "text/plain": [
       "(22, 35)"
      ]
     },
     "execution_count": 13,
     "metadata": {},
     "output_type": "execute_result"
    }
   ],
   "source": [
    "averages_df.shape"
   ]
  },
  {
   "cell_type": "code",
   "execution_count": 14,
   "id": "fc648f6a-9a2a-46b9-876c-cd3bf836611e",
   "metadata": {},
   "outputs": [],
   "source": [
    "def evaluate_metrics(y_test, y_pred):\n",
    "    mae = mean_absolute_error(y_test, y_pred)\n",
    "    mse = mean_squared_error(y_test, y_pred)\n",
    "    r2 = r2_score(y_test, y_pred)\n",
    "    \n",
    "    print(f\"Mean Absolute Error: {mae:.2f}\")\n",
    "    print(f\"Mean Squared Error: {mse:.2f}\")\n",
    "    print(f\"R-squared: {r2:.2f}\")\n",
    "\n",
    "    return mae, mse, r2"
   ]
  },
  {
   "cell_type": "code",
   "execution_count": 15,
   "id": "17692f89-7865-4bc1-94bf-e8db9361a01e",
   "metadata": {},
   "outputs": [
    {
     "name": "stdout",
     "output_type": "stream",
     "text": [
      "Mean Absolute Error: 35.26\n",
      "Mean Squared Error: 1596.63\n",
      "R-squared: -3.99\n"
     ]
    },
    {
     "data": {
      "text/plain": [
       "(35.26091780343794, 1596.6329338202072, -3.9915446672576245)"
      ]
     },
     "execution_count": 15,
     "metadata": {},
     "output_type": "execute_result"
    }
   ],
   "source": [
    "X_train_avg, X_test_avg, y_train_avg, y_test_avg = train_test_split(averages_df, y, test_size=0.2, random_state=42)\n",
    "\n",
    "lr_model_2 = LinearRegression(fit_intercept=True)\n",
    "lr_model_2.fit(X_train_avg, y_train_avg)\n",
    "y_pred_avg = lr_model_2.predict(X_test_avg)\n",
    "evaluate_metrics(y_test_avg, y_pred_avg)"
   ]
  },
  {
   "cell_type": "markdown",
   "id": "416ced89-0eac-44f5-9da2-831427d92776",
   "metadata": {},
   "source": [
    "Intersting: this is even worse. "
   ]
  }
 ],
 "metadata": {
  "kernelspec": {
   "display_name": "Python 3 (ipykernel)",
   "language": "python",
   "name": "python3"
  },
  "language_info": {
   "codemirror_mode": {
    "name": "ipython",
    "version": 3
   },
   "file_extension": ".py",
   "mimetype": "text/x-python",
   "name": "python",
   "nbconvert_exporter": "python",
   "pygments_lexer": "ipython3",
   "version": "3.10.13"
  }
 },
 "nbformat": 4,
 "nbformat_minor": 5
}
